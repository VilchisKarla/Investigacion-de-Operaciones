{
  "nbformat": 4,
  "nbformat_minor": 0,
  "metadata": {
    "colab": {
      "provenance": [],
      "authorship_tag": "ABX9TyMcq5/nwwUZbvCDJdlaSkrO",
      "include_colab_link": true
    },
    "kernelspec": {
      "name": "python3",
      "display_name": "Python 3"
    },
    "language_info": {
      "name": "python"
    }
  },
  "cells": [
    {
      "cell_type": "markdown",
      "metadata": {
        "id": "view-in-github",
        "colab_type": "text"
      },
      "source": [
        "<a href=\"https://colab.research.google.com/github/VilchisKarla/Investigacion-de-Operaciones/blob/main/ModeloRedes.ipynb\" target=\"_parent\"><img src=\"https://colab.research.google.com/assets/colab-badge.svg\" alt=\"Open In Colab\"/></a>"
      ]
    },
    {
      "cell_type": "markdown",
      "source": [
        "# Modelo de Redes en Python\n",
        "*Vilchis García Karla Ivonne* - - - - - - - - - - 04-Sep-2025\n",
        "\n",
        "---\n",
        "\n"
      ],
      "metadata": {
        "id": "Z1V67HAQcE1L"
      }
    },
    {
      "cell_type": "markdown",
      "source": [
        "importamos la librería para generar graficos de redes."
      ],
      "metadata": {
        "id": "GB1vItMnc2qE"
      }
    },
    {
      "cell_type": "code",
      "execution_count": 5,
      "metadata": {
        "id": "-W7kGWdSXO0G"
      },
      "outputs": [],
      "source": [
        "import networkx as nx"
      ]
    },
    {
      "cell_type": "markdown",
      "source": [
        "Crea un gráfico vacío sin nodos ni aristas."
      ],
      "metadata": {
        "id": "c6s00KHGceR4"
      }
    },
    {
      "cell_type": "code",
      "source": [
        "G = nx.DiGraph() #gráfica dirigida"
      ],
      "metadata": {
        "id": "Mh5WTGS7YcO4"
      },
      "execution_count": 6,
      "outputs": []
    },
    {
      "cell_type": "markdown",
      "source": [
        "creamos los arcos entre cada nodo que necesitemos."
      ],
      "metadata": {
        "id": "SVC7KC4kdBSr"
      }
    },
    {
      "cell_type": "code",
      "source": [
        "G.add_edge('A', 'B', capacity=2)\n",
        "G.add_edge('A', 'C', capacity=3)\n",
        "G.add_edge('B', 'D', capacity=2)\n",
        "G.add_edge('C', 'D', capacity=2)\n",
        "G.add_edge('B', 'C', capacity=2)\n"
      ],
      "metadata": {
        "id": "xmQqwhAdZDWA"
      },
      "execution_count": 17,
      "outputs": []
    },
    {
      "cell_type": "markdown",
      "source": [
        "muestra el tipo de variable que es"
      ],
      "metadata": {
        "id": "qy2A9cxqdkZt"
      }
    },
    {
      "cell_type": "code",
      "source": [
        "G"
      ],
      "metadata": {
        "colab": {
          "base_uri": "https://localhost:8080/"
        },
        "id": "HR0N7tfaZq_v",
        "outputId": "abcfe04b-46f2-4d32-a1c4-31b8d100a048"
      },
      "execution_count": 18,
      "outputs": [
        {
          "output_type": "execute_result",
          "data": {
            "text/plain": [
              "<networkx.classes.digraph.DiGraph at 0x7a06fa889af0>"
            ]
          },
          "metadata": {},
          "execution_count": 18
        }
      ]
    },
    {
      "cell_type": "markdown",
      "source": [
        "nos muestra el gráfico"
      ],
      "metadata": {
        "id": "qctPwlvMdquO"
      }
    },
    {
      "cell_type": "code",
      "source": [
        "nx.draw_networkx(G)"
      ],
      "metadata": {
        "colab": {
          "base_uri": "https://localhost:8080/",
          "height": 406
        },
        "id": "oVgrNYeNaQTY",
        "outputId": "2b2ca111-178e-4d47-882b-8346bfef8db5"
      },
      "execution_count": 21,
      "outputs": [
        {
          "output_type": "display_data",
          "data": {
            "text/plain": [
              "<Figure size 640x480 with 1 Axes>"
            ],
            "image/png": "[encoded data removed]"
          },
          "metadata": {}
        }
      ]
    },
    {
      "cell_type": "code",
      "source": [
        "nx.nodes(G) #muestra los nodos del gráfico"
      ],
      "metadata": {
        "colab": {
          "base_uri": "https://localhost:8080/"
        },
        "id": "B14L8zEvbuQh",
        "outputId": "f21cfdbe-2b56-48fe-97e3-205785ddeeb6"
      },
      "execution_count": 24,
      "outputs": [
        {
          "output_type": "execute_result",
          "data": {
            "text/plain": [
              "NodeView(('A', 'B', 'C', 'D'))"
            ]
          },
          "metadata": {},
          "execution_count": 24
        }
      ]
    },
    {
      "cell_type": "code",
      "source": [
        "nx.edges(G) #muestra los arcos que componen a la red"
      ],
      "metadata": {
        "colab": {
          "base_uri": "https://localhost:8080/"
        },
        "id": "QF0djS-6b5y5",
        "outputId": "1025a33e-5674-4c80-ce14-cb4f0d1abad7"
      },
      "execution_count": 25,
      "outputs": [
        {
          "output_type": "execute_result",
          "data": {
            "text/plain": [
              "OutEdgeView([('A', 'B'), ('A', 'C'), ('B', 'D'), ('B', 'C'), ('C', 'D')])"
            ]
          },
          "metadata": {},
          "execution_count": 25
        }
      ]
    },
    {
      "cell_type": "code",
      "source": [
        "nx.number_of_nodes(G) #el número de nodos que hay en nuestra red"
      ],
      "metadata": {
        "colab": {
          "base_uri": "https://localhost:8080/"
        },
        "id": "x1VEyy2FdOWD",
        "outputId": "b9040d65-46f6-48a5-e76b-53f365515959"
      },
      "execution_count": 26,
      "outputs": [
        {
          "output_type": "execute_result",
          "data": {
            "text/plain": [
              "4"
            ]
          },
          "metadata": {},
          "execution_count": 26
        }
      ]
    }
  ]
}